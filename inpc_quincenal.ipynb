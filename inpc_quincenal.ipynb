{
 "cells": [
  {
   "cell_type": "code",
   "execution_count": 1,
   "metadata": {},
   "outputs": [],
   "source": [
    "#Librerías\n",
    "import requests\n",
    "import pandas as pd\n",
    "import altair as alt"
   ]
  },
  {
   "cell_type": "code",
   "execution_count": 2,
   "metadata": {},
   "outputs": [],
   "source": [
    "url=\"https://www.inegi.org.mx/app/api/indicadores/desarrolladores/jsonxml/INDICATOR/628222/es/0700/false/BIE/2.0/[AQUÍ_VA_TU_TOKEN]?type=json\""
   ]
  },
  {
   "cell_type": "code",
   "execution_count": 3,
   "metadata": {},
   "outputs": [],
   "source": [
    "#Respuesta de la consulta a la API  \n",
    "respuesta = requests.get(url).json()"
   ]
  },
  {
   "cell_type": "code",
   "execution_count": 4,
   "metadata": {},
   "outputs": [
    {
     "data": {
      "text/plain": [
       "dict_keys(['Header', 'Series'])"
      ]
     },
     "execution_count": 4,
     "metadata": {},
     "output_type": "execute_result"
    }
   ],
   "source": [
    "respuesta.keys()"
   ]
  },
  {
   "cell_type": "code",
   "execution_count": 5,
   "metadata": {},
   "outputs": [],
   "source": [
    "inpc=respuesta[\"Series\"]\n",
    "inpc=pd.DataFrame(inpc)\n",
    "inpc = inpc[\"OBSERVATIONS\"].tolist()\n",
    "#Hacer dataframe únicamente con la lista OBSERVATIONS\n",
    "inpc=pd.DataFrame.from_records(inpc[0])\n",
    "inpc.columns= inpc.columns.str.lower()\n",
    "#Selección de variables\n",
    "inpc= inpc[[\"time_period\", \"obs_value\"]]\n",
    "inpc[\"time_period\"]=pd.to_datetime(inpc[\"time_period\"],format=\"%Y/%m/%d\")\n",
    "inpc[\"obs_value\"]=pd.to_numeric(inpc[\"obs_value\"])\n",
    "inpc.sort_values(by=['time_period'], inplace=True)\n",
    "\n"
   ]
  },
  {
   "cell_type": "code",
   "execution_count": 6,
   "metadata": {},
   "outputs": [
    {
     "data": {
      "text/html": [
       "<div>\n",
       "<style scoped>\n",
       "    .dataframe tbody tr th:only-of-type {\n",
       "        vertical-align: middle;\n",
       "    }\n",
       "\n",
       "    .dataframe tbody tr th {\n",
       "        vertical-align: top;\n",
       "    }\n",
       "\n",
       "    .dataframe thead th {\n",
       "        text-align: right;\n",
       "    }\n",
       "</style>\n",
       "<table border=\"1\" class=\"dataframe\">\n",
       "  <thead>\n",
       "    <tr style=\"text-align: right;\">\n",
       "      <th></th>\n",
       "      <th>time_period</th>\n",
       "      <th>obs_value</th>\n",
       "      <th>inflac</th>\n",
       "    </tr>\n",
       "  </thead>\n",
       "  <tbody>\n",
       "    <tr>\n",
       "      <th>236</th>\n",
       "      <td>2012-01-01</td>\n",
       "      <td>78.219845</td>\n",
       "      <td>3.939146</td>\n",
       "    </tr>\n",
       "    <tr>\n",
       "      <th>235</th>\n",
       "      <td>2012-01-02</td>\n",
       "      <td>78.466254</td>\n",
       "      <td>4.154285</td>\n",
       "    </tr>\n",
       "    <tr>\n",
       "      <th>234</th>\n",
       "      <td>2012-02-01</td>\n",
       "      <td>78.520344</td>\n",
       "      <td>4.012419</td>\n",
       "    </tr>\n",
       "    <tr>\n",
       "      <th>233</th>\n",
       "      <td>2012-02-02</td>\n",
       "      <td>78.483533</td>\n",
       "      <td>3.724186</td>\n",
       "    </tr>\n",
       "    <tr>\n",
       "      <th>232</th>\n",
       "      <td>2012-03-01</td>\n",
       "      <td>78.521095</td>\n",
       "      <td>3.723367</td>\n",
       "    </tr>\n",
       "    <tr>\n",
       "      <th>...</th>\n",
       "      <td>...</td>\n",
       "      <td>...</td>\n",
       "      <td>...</td>\n",
       "    </tr>\n",
       "    <tr>\n",
       "      <th>4</th>\n",
       "      <td>2021-09-01</td>\n",
       "      <td>114.482000</td>\n",
       "      <td>5.872452</td>\n",
       "    </tr>\n",
       "    <tr>\n",
       "      <th>3</th>\n",
       "      <td>2021-09-02</td>\n",
       "      <td>114.720000</td>\n",
       "      <td>6.126905</td>\n",
       "    </tr>\n",
       "    <tr>\n",
       "      <th>2</th>\n",
       "      <td>2021-10-01</td>\n",
       "      <td>115.340000</td>\n",
       "      <td>6.122224</td>\n",
       "    </tr>\n",
       "    <tr>\n",
       "      <th>1</th>\n",
       "      <td>2021-10-02</td>\n",
       "      <td>115.781000</td>\n",
       "      <td>6.355753</td>\n",
       "    </tr>\n",
       "    <tr>\n",
       "      <th>0</th>\n",
       "      <td>2021-11-01</td>\n",
       "      <td>116.584000</td>\n",
       "      <td>7.046185</td>\n",
       "    </tr>\n",
       "  </tbody>\n",
       "</table>\n",
       "<p>237 rows × 3 columns</p>\n",
       "</div>"
      ],
      "text/plain": [
       "    time_period   obs_value    inflac\n",
       "236  2012-01-01   78.219845  3.939146\n",
       "235  2012-01-02   78.466254  4.154285\n",
       "234  2012-02-01   78.520344  4.012419\n",
       "233  2012-02-02   78.483533  3.724186\n",
       "232  2012-03-01   78.521095  3.723367\n",
       "..          ...         ...       ...\n",
       "4    2021-09-01  114.482000  5.872452\n",
       "3    2021-09-02  114.720000  6.126905\n",
       "2    2021-10-01  115.340000  6.122224\n",
       "1    2021-10-02  115.781000  6.355753\n",
       "0    2021-11-01  116.584000  7.046185\n",
       "\n",
       "[237 rows x 3 columns]"
      ]
     },
     "execution_count": 6,
     "metadata": {},
     "output_type": "execute_result"
    }
   ],
   "source": [
    "#Calcular inflación\n",
    "inpc[\"inflac\"]=inpc[\"obs_value\"].pct_change(periods=24)*100\n",
    "#Dejar últimos 20 años\n",
    "inpc.query('time_period>= \"2012-01-01\"', inplace = True)\n",
    "inpc"
   ]
  },
  {
   "cell_type": "code",
   "execution_count": 56,
   "metadata": {},
   "outputs": [
    {
     "data": {
      "text/html": [
       "\n",
       "<div id=\"altair-viz-d4f2e2d24b124132932b2bcde9522b24\"></div>\n",
       "<script type=\"text/javascript\">\n",
       "  (function(spec, embedOpt){\n",
       "    let outputDiv = document.currentScript.previousElementSibling;\n",
       "    if (outputDiv.id !== \"altair-viz-d4f2e2d24b124132932b2bcde9522b24\") {\n",
       "      outputDiv = document.getElementById(\"altair-viz-d4f2e2d24b124132932b2bcde9522b24\");\n",
       "    }\n",
       "    const paths = {\n",
       "      \"vega\": \"https://cdn.jsdelivr.net/npm//vega@5?noext\",\n",
       "      \"vega-lib\": \"https://cdn.jsdelivr.net/npm//vega-lib?noext\",\n",
       "      \"vega-lite\": \"https://cdn.jsdelivr.net/npm//vega-lite@4.8.1?noext\",\n",
       "      \"vega-embed\": \"https://cdn.jsdelivr.net/npm//vega-embed@6?noext\",\n",
       "    };\n",
       "\n",
       "    function loadScript(lib) {\n",
       "      return new Promise(function(resolve, reject) {\n",
       "        var s = document.createElement('script');\n",
       "        s.src = paths[lib];\n",
       "        s.async = true;\n",
       "        s.onload = () => resolve(paths[lib]);\n",
       "        s.onerror = () => reject(`Error loading script: ${paths[lib]}`);\n",
       "        document.getElementsByTagName(\"head\")[0].appendChild(s);\n",
       "      });\n",
       "    }\n",
       "\n",
       "    function showError(err) {\n",
       "      outputDiv.innerHTML = `<div class=\"error\" style=\"color:red;\">${err}</div>`;\n",
       "      throw err;\n",
       "    }\n",
       "\n",
       "    function displayChart(vegaEmbed) {\n",
       "      vegaEmbed(outputDiv, spec, embedOpt)\n",
       "        .catch(err => showError(`Javascript Error: ${err.message}<br>This usually means there's a typo in your chart specification. See the javascript console for the full traceback.`));\n",
       "    }\n",
       "\n",
       "    if(typeof define === \"function\" && define.amd) {\n",
       "      requirejs.config({paths});\n",
       "      require([\"vega-embed\"], displayChart, err => showError(`Error loading script: ${err.message}`));\n",
       "    } else if (typeof vegaEmbed === \"function\") {\n",
       "      displayChart(vegaEmbed);\n",
       "    } else {\n",
       "      loadScript(\"vega\")\n",
       "        .then(() => loadScript(\"vega-lite\"))\n",
       "        .then(() => loadScript(\"vega-embed\"))\n",
       "        .catch(showError)\n",
       "        .then(() => displayChart(vegaEmbed));\n",
       "    }\n",
       "  })({\"config\": {\"view\": {\"continuousWidth\": 400, \"continuousHeight\": 300}}, \"concat\": [{\"mark\": {\"type\": \"line\", \"color\": \"#285c4d\", \"size\": 3}, \"encoding\": {\"x\": {\"type\": \"temporal\", \"axis\": {\"title\": \"Fecha\"}, \"field\": \"time_period\"}, \"y\": {\"type\": \"quantitative\", \"axis\": {\"title\": \"Var.%\"}, \"field\": \"inflac\"}}, \"height\": 300, \"title\": {\"text\": \"\\u00cdndice Nacional de Precios al Consumidor\", \"subtitle\": \"Variaci\\u00f3n porcentual anual por quincena\"}, \"width\": 700}], \"data\": {\"name\": \"data-561a0011878771fabe8007fd838fd370\"}, \"title\": {\"text\": [\"Fuente: @claudiodanielpc con informaci\\u00f3n de INEGI. \\u00cdndice Nacional de Precios al Consumidor.\"], \"anchor\": \"start\", \"baseline\": \"bottom\", \"fontSize\": 8, \"fontWeight\": \"normal\", \"orient\": \"bottom\"}, \"$schema\": \"https://vega.github.io/schema/vega-lite/v4.8.1.json\", \"datasets\": {\"data-561a0011878771fabe8007fd838fd370\": [{\"time_period\": \"2012-01-01T00:00:00\", \"obs_value\": 78.2198449426047, \"inflac\": 3.939145886158024}, {\"time_period\": \"2012-01-02T00:00:00\", \"obs_value\": 78.4662539816095, \"inflac\": 4.154284916535422}, {\"time_period\": \"2012-02-01T00:00:00\", \"obs_value\": 78.5203437706593, \"inflac\": 4.0124193933604335}, {\"time_period\": \"2012-02-02T00:00:00\", \"obs_value\": 78.4835326642226, \"inflac\": 3.724185861795015}, {\"time_period\": \"2012-03-01T00:00:00\", \"obs_value\": 78.5210950177294, \"inflac\": 3.7233673054212213}, {\"time_period\": \"2012-03-02T00:00:00\", \"obs_value\": 78.5729310655688, \"inflac\": 3.735221772593711}, {\"time_period\": \"2012-04-01T00:00:00\", \"obs_value\": 78.2453873429894, \"inflac\": 3.396106539068744}, {\"time_period\": \"2012-04-02T00:00:00\", \"obs_value\": 78.3558206622994, \"inflac\": 3.426015905439894}, {\"time_period\": \"2012-05-01T00:00:00\", \"obs_value\": 77.9816996213715, \"inflac\": 3.7096613048257288}, {\"time_period\": \"2012-05-02T00:00:00\", \"obs_value\": 78.1259390588377, \"inflac\": 3.993960060399404}, {\"time_period\": \"2012-06-01T00:00:00\", \"obs_value\": 78.3145020734419, \"inflac\": 4.302323254557416}, {\"time_period\": \"2012-06-02T00:00:00\", \"obs_value\": 78.5128312999579, \"inflac\": 4.369101712687784}, {\"time_period\": \"2012-07-01T00:00:00\", \"obs_value\": 78.8185888575035, \"inflac\": 4.445948771042607}, {\"time_period\": \"2012-07-02T00:00:00\", \"obs_value\": 78.8892060820963, \"inflac\": 4.392993478606688}, {\"time_period\": \"2012-08-01T00:00:00\", \"obs_value\": 78.9966344131258, \"inflac\": 4.4458570889371}, {\"time_period\": \"2012-08-02T00:00:00\", \"obs_value\": 79.1844461806599, \"inflac\": 4.690014103812001}, {\"time_period\": \"2012-09-01T00:00:00\", \"obs_value\": 79.3820241601058, \"inflac\": 4.729669458347896}, {\"time_period\": \"2012-09-02T00:00:00\", \"obs_value\": 79.4962137147665, \"inflac\": 4.8148735117574}, {\"time_period\": \"2012-10-01T00:00:00\", \"obs_value\": 79.8538073201514, \"inflac\": 4.64475225690848}, {\"time_period\": \"2012-10-02T00:00:00\", \"obs_value\": 79.8275136726967, \"inflac\": 4.545454545454541}, {\"time_period\": \"2012-11-01T00:00:00\", \"obs_value\": 80.457058717471, \"inflac\": 4.361637855430667}, {\"time_period\": \"2012-11-02T00:00:00\", \"obs_value\": 80.3090630446541, \"inflac\": 3.9973927932134945}, {\"time_period\": \"2012-12-01T00:00:00\", \"obs_value\": 80.5291784362041, \"inflac\": 3.7575499457952466}, {\"time_period\": \"2012-12-02T00:00:00\", \"obs_value\": 80.6073081314983, \"inflac\": 3.379901724636314}, {\"time_period\": \"2013-01-01T00:00:00\", \"obs_value\": 80.7312638980708, \"inflac\": 3.2107184018440593}, {\"time_period\": \"2013-01-02T00:00:00\", \"obs_value\": 81.0535488911593, \"inflac\": 3.2973345588234615}, {\"time_period\": \"2013-02-01T00:00:00\", \"obs_value\": 81.2466193881844, \"inflac\": 3.472062763107564}, {\"time_period\": \"2013-02-02T00:00:00\", \"obs_value\": 81.3360177895306, \"inflac\": 3.6345014405911646}, {\"time_period\": \"2013-03-01T00:00:00\", \"obs_value\": 81.7597211370876, \"inflac\": 4.124529998756321}, {\"time_period\": \"2013-03-02T00:00:00\", \"obs_value\": 82.0151451409339, \"inflac\": 4.380915957548526}, {\"time_period\": \"2013-04-01T00:00:00\", \"obs_value\": 81.93851793978, \"inflac\": 4.71993394396748}, {\"time_period\": \"2013-04-02T00:00:00\", \"obs_value\": 81.9445279163411, \"inflac\": 4.580013614442824}, {\"time_period\": \"2013-05-01T00:00:00\", \"obs_value\": 81.6613077708997, \"inflac\": 4.718553413677795}, {\"time_period\": \"2013-05-02T00:00:00\", \"obs_value\": 81.6763327123024, \"inflac\": 4.544449252367833}, {\"time_period\": \"2013-06-01T00:00:00\", \"obs_value\": 81.6380191117255, \"inflac\": 4.243807915891318}, {\"time_period\": \"2013-06-02T00:00:00\", \"obs_value\": 81.5997055111485, \"inflac\": 3.9316811788346007}, {\"time_period\": \"2013-07-01T00:00:00\", \"obs_value\": 81.5997055111485, \"inflac\": 3.5285034837061025}, {\"time_period\": \"2013-07-02T00:00:00\", \"obs_value\": 81.5839293226756, \"inflac\": 3.4158326270580464}, {\"time_period\": \"2013-08-01T00:00:00\", \"obs_value\": 81.7965322435243, \"inflac\": 3.5443254655077805}, {\"time_period\": \"2013-08-02T00:00:00\", \"obs_value\": 81.8521245267143, \"inflac\": 3.368942355128768}, {\"time_period\": \"2013-09-01T00:00:00\", \"obs_value\": 82.1285834485245, \"inflac\": 3.4599259939242177}, {\"time_period\": \"2013-09-02T00:00:00\", \"obs_value\": 82.1368471662961, \"inflac\": 3.321709711866583}, {\"time_period\": \"2013-10-01T00:00:00\", \"obs_value\": 82.4666446300859, \"inflac\": 3.2720259654734463}, {\"time_period\": \"2013-10-02T00:00:00\", \"obs_value\": 82.5793316906064, \"inflac\": 3.447204968944062}, {\"time_period\": \"2013-11-01T00:00:00\", \"obs_value\": 83.2817477011839, \"inflac\": 3.5108031896019742}, {\"time_period\": \"2013-11-02T00:00:00\", \"obs_value\": 83.3020313720777, \"inflac\": 3.726812658441103}, {\"time_period\": \"2013-12-01T00:00:00\", \"obs_value\": 83.6378388124286, \"inflac\": 3.860290687911583}, {\"time_period\": \"2013-12-02T00:00:00\", \"obs_value\": 83.9030290281868, \"inflac\": 4.088613021677934}, {\"time_period\": \"2014-01-01T00:00:00\", \"obs_value\": 84.4702205661398, \"inflac\": 4.63136149186234}, {\"time_period\": \"2014-01-02T00:00:00\", \"obs_value\": 84.5678826852575, \"inflac\": 4.335817298780276}, {\"time_period\": \"2014-02-01T00:00:00\", \"obs_value\": 84.6685497926558, \"inflac\": 4.211781893498756}, {\"time_period\": \"2014-02-02T00:00:00\", \"obs_value\": 84.7970130416491, \"inflac\": 4.255181586433632}, {\"time_period\": \"2014-03-01T00:00:00\", \"obs_value\": 84.9435062203257, \"inflac\": 3.8940752719787364}, {\"time_period\": \"2014-03-02T00:00:00\", \"obs_value\": 84.9863273033235, \"inflac\": 3.6227237753270636}, {\"time_period\": \"2014-04-01T00:00:00\", \"obs_value\": 84.8285654185949, \"inflac\": 3.5270926927662094}, {\"time_period\": \"2014-04-02T00:00:00\", \"obs_value\": 84.7857443355971, \"inflac\": 3.467243623828864}, {\"time_period\": \"2014-05-01T00:00:00\", \"obs_value\": 84.4732255544203, \"inflac\": 3.443390585183148}, {\"time_period\": \"2014-05-02T00:00:00\", \"obs_value\": 84.5986838151331, \"inflac\": 3.577965618417789}, {\"time_period\": \"2014-06-01T00:00:00\", \"obs_value\": 84.6670472985155, \"inflac\": 3.710315634489647}, {\"time_period\": \"2014-06-02T00:00:00\", \"obs_value\": 84.697097181321, \"inflac\": 3.7958368241283846}, {\"time_period\": \"2014-07-01T00:00:00\", \"obs_value\": 84.8646252779614, \"inflac\": 4.001141605059866}, {\"time_period\": \"2014-07-02T00:00:00\", \"obs_value\": 84.9652923853597, \"inflac\": 4.14464354776336}, {\"time_period\": \"2014-08-01T00:00:00\", \"obs_value\": 85.1260592583689, \"inflac\": 4.0704989851305}, {\"time_period\": \"2014-08-02T00:00:00\", \"obs_value\": 85.3131197788329, \"inflac\": 4.228351154146304}, {\"time_period\": \"2014-09-01T00:00:00\", \"obs_value\": 85.5895787006431, \"inflac\": 4.214117797718808}, {\"time_period\": \"2014-09-02T00:00:00\", \"obs_value\": 85.6031011479055, \"inflac\": 4.2200962189254065}, {\"time_period\": \"2014-10-01T00:00:00\", \"obs_value\": 86.0290582366729, \"inflac\": 4.319823636049014}, {\"time_period\": \"2014-10-02T00:00:00\", \"obs_value\": 86.1101929202476, \"inflac\": 4.275720276921113}, {\"time_period\": \"2014-11-01T00:00:00\", \"obs_value\": 86.7449966945129, \"inflac\": 4.158473001497498}, {\"time_period\": \"2014-11-02T00:00:00\", \"obs_value\": 86.7833102950898, \"inflac\": 4.179104477611806}, {\"time_period\": \"2014-12-01T00:00:00\", \"obs_value\": 87.1431576416852, \"inflac\": 4.191068156504918}, {\"time_period\": \"2014-12-02T00:00:00\", \"obs_value\": 87.235561031312, \"inflac\": 3.9718852128755255}, {\"time_period\": \"2015-01-01T00:00:00\", \"obs_value\": 87.0725404170924, \"inflac\": 3.080754180007128}, {\"time_period\": \"2015-01-02T00:00:00\", \"obs_value\": 87.1469138770359, \"inflac\": 3.0496579905836985}, {\"time_period\": \"2015-02-01T00:00:00\", \"obs_value\": 87.2385660195925, \"inflac\": 3.035384724588286}, {\"time_period\": \"2015-02-02T00:00:00\", \"obs_value\": 87.3114369853957, \"inflac\": 2.9652270210409615}, {\"time_period\": \"2015-03-01T00:00:00\", \"obs_value\": 87.4684476230543, \"inflac\": 2.972494914654722}, {\"time_period\": \"2015-03-02T00:00:00\", \"obs_value\": 87.7922351102831, \"inflac\": 3.3015990877509838}, {\"time_period\": \"2015-04-01T00:00:00\", \"obs_value\": 87.3963279043212, \"inflac\": 3.0270021343110187}, {\"time_period\": \"2015-04-02T00:00:00\", \"obs_value\": 87.412104092794, \"inflac\": 3.0976430976430436}, {\"time_period\": \"2015-05-01T00:00:00\", \"obs_value\": 86.9485846505199, \"inflac\": 2.930347550780943}, {\"time_period\": \"2015-05-02T00:00:00\", \"obs_value\": 86.9853957569565, \"inflac\": 2.8212163998188267}, {\"time_period\": \"2015-06-01T00:00:00\", \"obs_value\": 87.1003365586874, \"inflac\": 2.873950772834588}, {\"time_period\": \"2015-06-02T00:00:00\", \"obs_value\": 87.1251277120019, \"inflac\": 2.866722250802689}, {\"time_period\": \"2015-07-01T00:00:00\", \"obs_value\": 87.2070136426468, \"inflac\": 2.760146948169817}, {\"time_period\": \"2015-07-02T00:00:00\", \"obs_value\": 87.2753771260292, \"inflac\": 2.718856930653657}, {\"time_period\": \"2015-08-01T00:00:00\", \"obs_value\": 87.3760442334275, \"inflac\": 2.643121265874182}, {\"time_period\": \"2015-08-02T00:00:00\", \"obs_value\": 87.4737063525452, \"inflac\": 2.532537292404058}, {\"time_period\": \"2015-09-01T00:00:00\", \"obs_value\": 87.7539215097061, \"inflac\": 2.5287457210567466}, {\"time_period\": \"2015-09-02T00:00:00\", \"obs_value\": 87.7509165214256, \"inflac\": 2.5090392108681803}, {\"time_period\": \"2015-10-01T00:00:00\", \"obs_value\": 88.1565899392992, \"inflac\": 2.4730384665763605}, {\"time_period\": \"2015-10-02T00:00:00\", \"obs_value\": 88.2519983172066, \"inflac\": 2.487284401908929}, {\"time_period\": \"2015-11-01T00:00:00\", \"obs_value\": 88.7117615241301, \"inflac\": 2.2672948349326427}, {\"time_period\": \"2015-11-02T00:00:00\", \"obs_value\": 88.6599254762906, \"inflac\": 2.162414840848692}, {\"time_period\": \"2015-12-01T00:00:00\", \"obs_value\": 88.8883045856121, \"inflac\": 2.0026207348402325}, {\"time_period\": \"2015-12-02T00:00:00\", \"obs_value\": 89.2045796021395, \"inflac\": 2.2571283402656794}, {\"time_period\": \"2016-01-01T00:00:00\", \"obs_value\": 89.2286195083839, \"inflac\": 2.4761871893980825}, {\"time_period\": \"2016-01-02T00:00:00\", \"obs_value\": 89.5441432778412, \"inflac\": 2.750790927820801}, {\"time_period\": \"2016-02-01T00:00:00\", \"obs_value\": 89.7995672816876, \"inflac\": 2.9356297093649397}, {\"time_period\": \"2016-02-02T00:00:00\", \"obs_value\": 89.7552437045495, \"inflac\": 2.798953726488973}, {\"time_period\": \"2016-03-01T00:00:00\", \"obs_value\": 89.8416371176152, \"inflac\": 2.7131949394919808}, {\"time_period\": \"2016-03-02T00:00:00\", \"obs_value\": 89.9776128373099, \"inflac\": 2.4892608375690184}, {\"time_period\": \"2016-04-01T00:00:00\", \"obs_value\": 89.6673477973436, \"inflac\": 2.598530107018493}, {\"time_period\": \"2016-04-02T00:00:00\", \"obs_value\": 89.5839593725584, \"inflac\": 2.4846161779366716}, {\"time_period\": \"2016-05-01T00:00:00\", \"obs_value\": 89.1504898130897, \"inflac\": 2.5324220876281167}, {\"time_period\": \"2016-05-02T00:00:00\", \"obs_value\": 89.2999879800469, \"inflac\": 2.660897502331916}, {\"time_period\": \"2016-06-01T00:00:00\", \"obs_value\": 89.3202716509406, \"inflac\": 2.5487101198023776}, {\"time_period\": \"2016-06-02T00:00:00\", \"obs_value\": 89.3277841216419, \"inflac\": 2.5281528618483318}, {\"time_period\": \"2016-07-01T00:00:00\", \"obs_value\": 89.5756956547869, \"inflac\": 2.7161599889733434}, {\"time_period\": \"2016-07-02T00:00:00\", \"obs_value\": 89.5388845483503, \"inflac\": 2.593523507841744}, {\"time_period\": \"2016-08-01T00:00:00\", \"obs_value\": 89.8198509525813, \"inflac\": 2.7968841352271623}, {\"time_period\": \"2016-08-02T00:00:00\", \"obs_value\": 89.7988160346175, \"inflac\": 2.658066954087235}, {\"time_period\": \"2016-09-01T00:00:00\", \"obs_value\": 90.2818679007152, \"inflac\": 2.880721849825818}, {\"time_period\": \"2016-09-02T00:00:00\", \"obs_value\": 90.4336198088827, \"inflac\": 3.0571797923068855}, {\"time_period\": \"2016-10-01T00:00:00\", \"obs_value\": 90.8798605685438, \"inflac\": 3.089128823063292}, {\"time_period\": \"2016-10-02T00:00:00\", \"obs_value\": 90.9324478634533, \"inflac\": 3.037267820964562}, {\"time_period\": \"2016-11-01T00:00:00\", \"obs_value\": 91.6341126269608, \"inflac\": 3.2942093050827292}, {\"time_period\": \"2016-11-02T00:00:00\", \"obs_value\": 91.5995552617345, \"inflac\": 3.3156240202683485}, {\"time_period\": \"2016-12-01T00:00:00\", \"obs_value\": 91.9804375262936, \"inflac\": 3.478672425013274}, {\"time_period\": \"2016-12-02T00:00:00\", \"obs_value\": 92.0983833163051, \"inflac\": 3.244008017382316}, {\"time_period\": \"2017-01-01T00:00:00\", \"obs_value\": 93.4919466314081, \"inflac\": 4.777981713169521}, {\"time_period\": \"2017-01-02T00:00:00\", \"obs_value\": 93.7158182583088, \"inflac\": 4.658791549910268}, {\"time_period\": \"2017-02-01T00:00:00\", \"obs_value\": 94.0283370394855, \"inflac\": 4.709120417621726}, {\"time_period\": \"2017-02-02T00:00:00\", \"obs_value\": 94.2612236312278, \"inflac\": 5.020297133291485}, {\"time_period\": \"2017-03-01T00:00:00\", \"obs_value\": 94.5917723420879, \"inflac\": 5.287231373860779}, {\"time_period\": \"2017-03-02T00:00:00\", \"obs_value\": 94.8524550754252, \"inflac\": 5.4178390428401}, {\"time_period\": \"2017-04-01T00:00:00\", \"obs_value\": 94.7097181320993, \"inflac\": 5.623418622966203}, {\"time_period\": \"2017-04-02T00:00:00\", \"obs_value\": 94.9681471242262, \"inflac\": 6.010214093436361}, {\"time_period\": \"2017-05-01T00:00:00\", \"obs_value\": 94.647364625278, \"inflac\": 6.165838038257432}, {\"time_period\": \"2017-05-02T00:00:00\", \"obs_value\": 94.8036240158663, \"inflac\": 6.1630870958786055}, {\"time_period\": \"2017-06-01T00:00:00\", \"obs_value\": 94.9471122062624, \"inflac\": 6.299623200107618}, {\"time_period\": \"2017-06-02T00:00:00\", \"obs_value\": 94.9794158302783, \"inflac\": 6.326846416497145}, {\"time_period\": \"2017-07-01T00:00:00\", \"obs_value\": 95.2032874571789, \"inflac\": 6.282498574256135}, {\"time_period\": \"2017-07-02T00:00:00\", \"obs_value\": 95.4429352725524, \"inflac\": 6.593839932207302}, {\"time_period\": \"2017-08-01T00:00:00\", \"obs_value\": 95.7374241240459, \"inflac\": 6.588268749843129}, {\"time_period\": \"2017-08-02T00:00:00\", \"obs_value\": 95.8493599374962, \"inflac\": 6.737888281896964}, {\"time_period\": \"2017-09-01T00:00:00\", \"obs_value\": 96.1761524130056, \"inflac\": 6.528757821861264}, {\"time_period\": \"2017-09-02T00:00:00\", \"obs_value\": 96.0101268105054, \"inflac\": 6.166409144528084}, {\"time_period\": \"2017-10-01T00:00:00\", \"obs_value\": 96.6043632429834, \"inflac\": 6.298978275964706}, {\"time_period\": \"2017-10-02T00:00:00\", \"obs_value\": 96.7914237634473, \"inflac\": 6.443218056542355}, {\"time_period\": \"2017-11-01T00:00:00\", \"obs_value\": 97.6771440591382, \"inflac\": 6.5947399488423875}, {\"time_period\": \"2017-11-02T00:00:00\", \"obs_value\": 97.7124526714346, \"inflac\": 6.673501189206932}, {\"time_period\": \"2017-12-01T00:00:00\", \"obs_value\": 98.1376585131318, \"inflac\": 6.694054901704605}, {\"time_period\": \"2017-12-02T00:00:00\", \"obs_value\": 98.4081074583809, \"inflac\": 6.851069383493424}, {\"time_period\": \"2018-01-01T00:00:00\", \"obs_value\": 98.6424965442635, \"inflac\": 5.5090840424592225}, {\"time_period\": \"2018-01-02T00:00:00\", \"obs_value\": 98.9475028547389, \"inflac\": 5.582498977931349}, {\"time_period\": \"2018-02-01T00:00:00\", \"obs_value\": 99.1503395636757, \"inflac\": 5.447296725070561}, {\"time_period\": \"2018-02-02T00:00:00\", \"obs_value\": 99.1931606466735, \"inflac\": 5.232201350091326}, {\"time_period\": \"2018-03-01T00:00:00\", \"obs_value\": 99.4853957569565, \"inflac\": 5.173413388609505}, {\"time_period\": \"2018-03-02T00:00:00\", \"obs_value\": 99.4981669571489, \"inflac\": 4.897829874861448}, {\"time_period\": \"2018-04-01T00:00:00\", \"obs_value\": 99.1540957990264, \"inflac\": 4.692631077972553}, {\"time_period\": \"2018-04-02T00:00:00\", \"obs_value\": 99.1563495402368, \"inflac\": 4.410112803961597}, {\"time_period\": \"2018-05-01T00:00:00\", \"obs_value\": 98.8678706653044, \"inflac\": 4.4591902339129685}, {\"time_period\": \"2018-05-02T00:00:00\", \"obs_value\": 99.1210409279404, \"inflac\": 4.554063156226529}, {\"time_period\": \"2018-06-01T00:00:00\", \"obs_value\": 99.2540116593545, \"inflac\": 4.536103682369852}, {\"time_period\": \"2018-06-02T00:00:00\", \"obs_value\": 99.498918204219, \"inflac\": 4.758401948919899}, {\"time_period\": \"2018-07-01T00:00:00\", \"obs_value\": 99.8189494560971, \"inflac\": 4.848217033465629}, {\"time_period\": \"2018-07-02T00:00:00\", \"obs_value\": 100.0, \"inflac\": 4.774648552492833}, {\"time_period\": \"2018-08-01T00:00:00\", \"obs_value\": 100.343, \"inflac\": 4.810632746904386}, {\"time_period\": \"2018-08-02T00:00:00\", \"obs_value\": 100.641, \"inflac\": 4.999136212937105}, {\"time_period\": \"2018-09-01T00:00:00\", \"obs_value\": 100.865, \"inflac\": 4.875270500382745}, {\"time_period\": \"2018-09-02T00:00:00\", \"obs_value\": 100.97, \"inflac\": 5.1659896244943715}, {\"time_period\": \"2018-10-01T00:00:00\", \"obs_value\": 101.372, \"inflac\": 4.935218862759694}, {\"time_period\": \"2018-10-02T00:00:00\", \"obs_value\": 101.509, \"inflac\": 4.87396099067845}, {\"time_period\": \"2018-11-01T00:00:00\", \"obs_value\": 102.132, \"inflac\": 4.560796677434209}, {\"time_period\": \"2018-11-02T00:00:00\", \"obs_value\": 102.473, \"inflac\": 4.871996555621316}, {\"time_period\": \"2018-12-01T00:00:00\", \"obs_value\": 103.049, \"inflac\": 5.004543170561804}, {\"time_period\": \"2018-12-02T00:00:00\", \"obs_value\": 102.992, \"inflac\": 4.658043590115524}, {\"time_period\": \"2019-01-01T00:00:00\", \"obs_value\": 103.105, \"inflac\": 4.523915768630271}, {\"time_period\": \"2019-01-02T00:00:00\", \"obs_value\": 103.112, \"inflac\": 4.208794588151288}, {\"time_period\": \"2019-02-01T00:00:00\", \"obs_value\": 103.009, \"inflac\": 3.8917269000841026}, {\"time_period\": \"2019-02-02T00:00:00\", \"obs_value\": 103.15, \"inflac\": 3.989024371771732}, {\"time_period\": \"2019-03-01T00:00:00\", \"obs_value\": 103.415, \"inflac\": 3.949930754302411}, {\"time_period\": \"2019-03-02T00:00:00\", \"obs_value\": 103.537, \"inflac\": 4.059203467125694}, {\"time_period\": \"2019-04-01T00:00:00\", \"obs_value\": 103.501, \"inflac\": 4.3839885442395365}, {\"time_period\": \"2019-04-02T00:00:00\", \"obs_value\": 103.562, \"inflac\": 4.4431349885217575}, {\"time_period\": \"2019-05-01T00:00:00\", \"obs_value\": 103.25, \"inflac\": 4.4323088028570545}, {\"time_period\": \"2019-05-02T00:00:00\", \"obs_value\": 103.216, \"inflac\": 4.131271255551661}, {\"time_period\": \"2019-06-01T00:00:00\", \"obs_value\": 103.225, \"inflac\": 4.0008340965342}, {\"time_period\": \"2019-06-02T00:00:00\", \"obs_value\": 103.373, \"inflac\": 3.893591875873015}, {\"time_period\": \"2019-07-01T00:00:00\", \"obs_value\": 103.654, \"inflac\": 3.8420065175998053}, {\"time_period\": \"2019-07-02T00:00:00\", \"obs_value\": 103.72, \"inflac\": 3.71999999999999}, {\"time_period\": \"2019-08-01T00:00:00\", \"obs_value\": 103.642, \"inflac\": 3.287723109733598}, {\"time_period\": \"2019-08-02T00:00:00\", \"obs_value\": 103.697, \"inflac\": 3.0365358054868175}, {\"time_period\": \"2019-09-01T00:00:00\", \"obs_value\": 103.877, \"inflac\": 2.986169632677349}, {\"time_period\": \"2019-09-02T00:00:00\", \"obs_value\": 104.007, \"inflac\": 3.007824106170154}, {\"time_period\": \"2019-10-01T00:00:00\", \"obs_value\": 104.42, \"inflac\": 3.0067474253245408}, {\"time_period\": \"2019-10-02T00:00:00\", \"obs_value\": 104.587, \"inflac\": 3.032243446393923}, {\"time_period\": \"2019-11-01T00:00:00\", \"obs_value\": 105.299, \"inflac\": 3.1008890455489047}, {\"time_period\": \"2019-11-02T00:00:00\", \"obs_value\": 105.393, \"inflac\": 2.8495310959960163}, {\"time_period\": \"2019-12-01T00:00:00\", \"obs_value\": 105.763, \"inflac\": 2.6336985317664485}, {\"time_period\": \"2019-12-02T00:00:00\", \"obs_value\": 106.105, \"inflac\": 3.0225648594065513}, {\"time_period\": \"2020-01-01T00:00:00\", \"obs_value\": 106.388, \"inflac\": 3.184132680277396}, {\"time_period\": \"2020-01-02T00:00:00\", \"obs_value\": 106.506, \"inflac\": 3.291566452013339}, {\"time_period\": \"2020-02-01T00:00:00\", \"obs_value\": 106.636, \"inflac\": 3.5210515586016733}, {\"time_period\": \"2020-02-02T00:00:00\", \"obs_value\": 107.141, \"inflac\": 3.869122636936506}, {\"time_period\": \"2020-03-01T00:00:00\", \"obs_value\": 107.254, \"inflac\": 3.7122274331576666}, {\"time_period\": \"2020-03-02T00:00:00\", \"obs_value\": 106.422, \"inflac\": 2.786443493630286}, {\"time_period\": \"2020-04-01T00:00:00\", \"obs_value\": 105.655, \"inflac\": 2.081139312663649}, {\"time_period\": \"2020-04-02T00:00:00\", \"obs_value\": 105.854, \"inflac\": 2.2131669917537344}, {\"time_period\": \"2020-05-01T00:00:00\", \"obs_value\": 106.167, \"inflac\": 2.8251815980629535}, {\"time_period\": \"2020-05-02T00:00:00\", \"obs_value\": 106.158, \"inflac\": 2.8503332816617544}, {\"time_period\": \"2020-06-01T00:00:00\", \"obs_value\": 106.495, \"inflac\": 3.167837248728511}, {\"time_period\": \"2020-06-02T00:00:00\", \"obs_value\": 106.991, \"inflac\": 3.4999467946175367}, {\"time_period\": \"2020-07-01T00:00:00\", \"obs_value\": 107.371, \"inflac\": 3.585968703571507}, {\"time_period\": \"2020-07-02T00:00:00\", \"obs_value\": 107.517, \"inflac\": 3.6608175858079406}, {\"time_period\": \"2020-08-01T00:00:00\", \"obs_value\": 107.777, \"inflac\": 3.98969529727331}, {\"time_period\": \"2020-08-02T00:00:00\", \"obs_value\": 107.956, \"inflac\": 4.107158355593699}, {\"time_period\": \"2020-09-01T00:00:00\", \"obs_value\": 108.132, \"inflac\": 4.096190687062595}, {\"time_period\": \"2020-09-02T00:00:00\", \"obs_value\": 108.097, \"inflac\": 3.9324276250636947}, {\"time_period\": \"2020-10-01T00:00:00\", \"obs_value\": 108.686, \"inflac\": 4.085424248228309}, {\"time_period\": \"2020-10-02T00:00:00\", \"obs_value\": 108.862, \"inflac\": 4.087506095403826}, {\"time_period\": \"2020-11-01T00:00:00\", \"obs_value\": 108.91, \"inflac\": 3.429282329366834}, {\"time_period\": \"2020-11-02T00:00:00\", \"obs_value\": 108.801, \"inflac\": 3.233611340411602}, {\"time_period\": \"2020-12-01T00:00:00\", \"obs_value\": 109.168, \"inflac\": 3.219462382874916}, {\"time_period\": \"2020-12-02T00:00:00\", \"obs_value\": 109.374, \"inflac\": 3.080910418924643}, {\"time_period\": \"2021-01-01T00:00:00\", \"obs_value\": 109.936, \"inflac\": 3.3349625897657553}, {\"time_period\": \"2021-01-02T00:00:00\", \"obs_value\": 110.484, \"inflac\": 3.7350008450228067}, {\"time_period\": \"2021-02-01T00:00:00\", \"obs_value\": 110.736, \"inflac\": 3.8448553959263387}, {\"time_period\": \"2021-02-02T00:00:00\", \"obs_value\": 111.079, \"inflac\": 3.6755303758598368}, {\"time_period\": \"2021-03-01T00:00:00\", \"obs_value\": 111.668, \"inflac\": 4.115464225110488}, {\"time_period\": \"2021-03-02T00:00:00\", \"obs_value\": 111.981, \"inflac\": 5.223544004059311}, {\"time_period\": \"2021-04-01T00:00:00\", \"obs_value\": 112.052, \"inflac\": 6.054611707917279}, {\"time_period\": \"2021-04-02T00:00:00\", \"obs_value\": 112.328, \"inflac\": 6.115971054471259}, {\"time_period\": \"2021-05-01T00:00:00\", \"obs_value\": 112.321, \"inflac\": 5.7965281113717015}, {\"time_period\": \"2021-05-02T00:00:00\", \"obs_value\": 112.517, \"inflac\": 5.990127922530553}, {\"time_period\": \"2021-06-01T00:00:00\", \"obs_value\": 112.903, \"inflac\": 6.017183905347667}, {\"time_period\": \"2021-06-02T00:00:00\", \"obs_value\": 113.132, \"inflac\": 5.739735117907108}, {\"time_period\": \"2021-07-01T00:00:00\", \"obs_value\": 113.547, \"inflac\": 5.752018701511585}, {\"time_period\": \"2021-07-02T00:00:00\", \"obs_value\": 113.818, \"inflac\": 5.860468577062239}, {\"time_period\": \"2021-08-01T00:00:00\", \"obs_value\": 113.794, \"inflac\": 5.582823793573755}, {\"time_period\": \"2021-08-02T00:00:00\", \"obs_value\": 114.003, \"inflac\": 5.60135610804402}, {\"time_period\": \"2021-09-01T00:00:00\", \"obs_value\": 114.482, \"inflac\": 5.872452188066424}, {\"time_period\": \"2021-09-02T00:00:00\", \"obs_value\": 114.72, \"inflac\": 6.1269045394414245}, {\"time_period\": \"2021-10-01T00:00:00\", \"obs_value\": 115.34, \"inflac\": 6.1222236534604235}, {\"time_period\": \"2021-10-02T00:00:00\", \"obs_value\": 115.781, \"inflac\": 6.3557531553710245}, {\"time_period\": \"2021-11-01T00:00:00\", \"obs_value\": 116.584, \"inflac\": 7.0461849233312}]}}, {\"mode\": \"vega-lite\"});\n",
       "</script>"
      ],
      "text/plain": [
       "alt.ConcatChart(...)"
      ]
     },
     "execution_count": 56,
     "metadata": {},
     "output_type": "execute_result"
    }
   ],
   "source": [
    "#Título\n",
    "plot_title = alt.TitleParams(\"Índice Nacional de Precios al Consumidor\", subtitle=\"Variación porcentual anual por quincena\")\n",
  
    "linea=alt.Chart(inpc,title=plot_title).mark_line(color=\"#285c4d\",\n",
    "    size=3).encode(\n",
    "    x=alt.X('time_period:T',\n",
    "    axis=alt.Axis(title=\"Fecha\")),\n",
    "    y=alt.Y('inflac',axis=alt.Axis(title=\"Var.%\"))).properties(width=700, height=300)\n",
    "    \n",
    "alt.concat(linea).properties(\n",
    "    title=alt.TitleParams(\n",
    "        ['Fuente: @claudiodanielpc con información de INEGI. Índice Nacional de Precios al Consumidor.'],\n",
    "        baseline='bottom',\n",
    "        orient='bottom',\n",
    "        anchor='start',\n",
    "        fontWeight='normal',\n",
    "        fontSize=8))\n"
   ]
  }
 ],
 "metadata": {
  "interpreter": {
   "hash": "814cb4828cfc31c8abce0dd7916b34f2b12901d9e4c44158b270a26aa30fe26e"
  },
  "kernelspec": {
   "display_name": "R",
   "language": "python",
   "name": "python3"
  },
  "language_info": {
   "codemirror_mode": {
    "name": "ipython",
    "version": 3
   },
   "file_extension": ".py",
   "mimetype": "text/x-python",
   "name": "python",
   "nbconvert_exporter": "python",
   "pygments_lexer": "ipython3",
   "version": "3.9.5"
  },
  "orig_nbformat": 4
 },
 "nbformat": 4,
 "nbformat_minor": 2
}
